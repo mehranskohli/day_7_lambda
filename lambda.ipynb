{
  "nbformat": 4,
  "nbformat_minor": 0,
  "metadata": {
    "kernelspec": {
      "display_name": "Python 3",
      "language": "python",
      "name": "python3"
    },
    "language_info": {
      "codemirror_mode": {
        "name": "ipython",
        "version": 3
      },
      "file_extension": ".py",
      "mimetype": "text/x-python",
      "name": "python",
      "nbconvert_exporter": "python",
      "pygments_lexer": "ipython3",
      "version": "3.7.3"
    },
    "colab": {
      "name": "lambda.ipynb",
      "provenance": []
    }
  },
  "cells": [
    {
      "cell_type": "markdown",
      "metadata": {
        "id": "4t0qcjlaYVjq",
        "colab_type": "text"
      },
      "source": [
        "# Before your start:\n",
        "- Read the README.md file\n",
        "- Comment as much as you can and use the resources in the README.md file\n",
        "- Happy learning!"
      ]
    },
    {
      "cell_type": "markdown",
      "metadata": {
        "id": "rlb4izt-YVjs",
        "colab_type": "text"
      },
      "source": [
        "# Challenge 1 - Passing a Lambda Expression to a Function\n",
        "\n",
        "In the next excercise you will create a function that returns a lambda expression. Create a function called `modify_list`. The function takes two arguments, a list and a lambda expression. The function iterates through the list and applies the lambda expression to every element in the list."
      ]
    },
    {
      "cell_type": "markdown",
      "metadata": {
        "id": "sSmJnfCeYVjv",
        "colab_type": "raw"
      },
      "source": [
        "Follow the steps as stated below:\n",
        "    1. Define a list of any 10 numbers\n",
        "    2. Define a simple lambda expression for eg that updates a number by 2\n",
        "    3. Define an empty list\n",
        "    4. Define the function -> use the lambda function to append the empty list\n",
        "    5. Call the function with list and lambda expression\n",
        "    6. print the updated list  "
      ]
    },
    {
      "cell_type": "code",
      "metadata": {
        "id": "chwaRDUCYVjw",
        "colab_type": "code",
        "colab": {
          "base_uri": "https://localhost:8080/",
          "height": 34
        },
        "outputId": "7b1273d1-1505-4728-c6ed-4928cc9000ec"
      },
      "source": [
        "l = [1,2,3,4]\n",
        "#f = lambda x: x+x\n",
        "#b = []\n",
        "#def modify_list(f, fudduLambda):\n",
        "   # for i in :\n",
        "   #     b.append(l(i))\n",
        "        \n",
        "#square = lambda x:x*x        \n",
        "        \n",
        "#l_out = modify_list(lambda x:x+x, l)\n",
        "#Call modify_list(##,##)\n",
        "#print (modify_list)\n",
        "\n",
        "\n",
        "\n",
        "#summarize = lambda a: a + a\n",
        "\n",
        "#summarize()\n",
        "\n",
        "\n",
        "square = lambda x: x * x\n",
        "squared = [square(x) for x in l]\n",
        "print(squared)"
      ],
      "execution_count": 17,
      "outputs": [
        {
          "output_type": "stream",
          "text": [
            "[1, 4, 9, 16]\n"
          ],
          "name": "stdout"
        }
      ]
    },
    {
      "cell_type": "markdown",
      "metadata": {
        "id": "HeCpJtZ0YVj0",
        "colab_type": "text"
      },
      "source": [
        "#### Now we will define a lambda expression that will transform the elements of the list. \n",
        "\n",
        "In the cell below, create a lambda expression that converts Celsius to Kelvin. Recall that 0°C + 273.15 = 273.15K"
      ]
    },
    {
      "cell_type": "code",
      "metadata": {
        "id": "AWlVCBtFYVj1",
        "colab_type": "code",
        "colab": {}
      },
      "source": [
        "# Your code here:\n",
        "\n",
        "kelvin = lambda x: x + 273.15\n",
        "kelvin_list = [kelvin(x) for x in l]\n",
        "print(kelvin_list)\n",
        "\n"
      ],
      "execution_count": 0,
      "outputs": []
    },
    {
      "cell_type": "markdown",
      "metadata": {
        "id": "wmiCEp6ZYVj5",
        "colab_type": "text"
      },
      "source": [
        "Finally, convert the list of temperatures below from Celsius to Kelvin."
      ]
    },
    {
      "cell_type": "code",
      "metadata": {
        "id": "EI-MfqZvYVj6",
        "colab_type": "code",
        "colab": {
          "base_uri": "https://localhost:8080/",
          "height": 34
        },
        "outputId": "1f525ad8-4387-4965-9dab-f67bff2faef7"
      },
      "source": [
        "temps = [12, 23, 38, -55, 24]\n",
        "\n",
        "# Your code here:\n",
        "kelvin = lambda x: x + 273.15\n",
        "kelvin_list = [kelvin(x) for x in temps]\n",
        "print(kelvin_list)"
      ],
      "execution_count": 18,
      "outputs": [
        {
          "output_type": "stream",
          "text": [
            "[285.15, 296.15, 311.15, 218.14999999999998, 297.15]\n"
          ],
          "name": "stdout"
        }
      ]
    },
    {
      "cell_type": "markdown",
      "metadata": {
        "id": "Mg4OVW2sYVj8",
        "colab_type": "text"
      },
      "source": [
        "#### In this part, we will define a function that returns a lambda expression\n",
        "\n",
        "In the cell below, write a lambda expression that takes two numbers and returns 1 if one is divisible by the other and zero otherwise. Call the lambda expression `mod`."
      ]
    },
    {
      "cell_type": "code",
      "metadata": {
        "id": "aiDGFBr5YVj9",
        "colab_type": "code",
        "colab": {
          "base_uri": "https://localhost:8080/",
          "height": 34
        },
        "outputId": "1ae8ddea-64dd-4cfd-c767-845b9d061ec2"
      },
      "source": [
        "# Your code here:\n",
        "\n",
        "#mod = lambda a, b: a%b\n",
        "  \n",
        "mod = lambda a, b: 1 if a%b == 0 else 0\n",
        "\n",
        "mod(10, 5)\n"
      ],
      "execution_count": 34,
      "outputs": [
        {
          "output_type": "execute_result",
          "data": {
            "text/plain": [
              "1"
            ]
          },
          "metadata": {
            "tags": []
          },
          "execution_count": 34
        }
      ]
    },
    {
      "cell_type": "markdown",
      "metadata": {
        "id": "GQNlTBQWYVkA",
        "colab_type": "text"
      },
      "source": [
        "#### Now create a function that returns mod. The function only takes one argument - the first number in the `mod` lambda function. \n",
        "\n",
        "Note: the lambda function above took two arguments, the lambda function in the return statement only takes one argument but also uses the argument passed to the function."
      ]
    },
    {
      "cell_type": "code",
      "metadata": {
        "id": "PsaeOHcLYVkA",
        "colab_type": "code",
        "colab": {}
      },
      "source": [
        "def divisor(b): \n",
        "    \n",
        "    \"\"\"\n",
        "    input: a number\n",
        "    output: a function that returns 1 if the number is divisible by another number (to be passed later) and zero otherwise\n",
        "    \"\"\"\n",
        "    \n",
        "    # Your code here:\n",
        "    \n",
        "    \n",
        "      \n",
        "def divisor(b):\n",
        "    return lambda a:1 if a%b == 0 else 0\n",
        " \n",
        "\n",
        "\n",
        "  "
      ],
      "execution_count": 0,
      "outputs": []
    },
    {
      "cell_type": "markdown",
      "metadata": {
        "id": "78qZtSo3YVkE",
        "colab_type": "text"
      },
      "source": [
        "Finally, pass the number 5 to `divisor`. Now the function will check whether a number is divisble by 5. Assign this function to `divisible5`"
      ]
    },
    {
      "cell_type": "code",
      "metadata": {
        "id": "72ppfFBpYVkF",
        "colab_type": "code",
        "colab": {
          "base_uri": "https://localhost:8080/",
          "height": 34
        },
        "outputId": "7ee62f56-c20b-4479-9d24-80253b72c3e6"
      },
      "source": [
        "# Your code here:\n",
        "divisor(5)\n",
        "\n",
        "\n",
        "divisible5 = divisor(5)\n",
        "divisible10 = lambda a:1 if a%5 == 0 else 0 "
      ],
      "execution_count": 71,
      "outputs": [
        {
          "output_type": "execute_result",
          "data": {
            "text/plain": [
              "1"
            ]
          },
          "metadata": {
            "tags": []
          },
          "execution_count": 71
        }
      ]
    },
    {
      "cell_type": "markdown",
      "metadata": {
        "id": "0k7jwgV5YVkG",
        "colab_type": "text"
      },
      "source": [
        "Test your function with the following test cases:"
      ]
    },
    {
      "cell_type": "code",
      "metadata": {
        "id": "JcGNd_-RYVkH",
        "colab_type": "code",
        "colab": {
          "base_uri": "https://localhost:8080/",
          "height": 34
        },
        "outputId": "15d8beef-e8d2-48e2-ccdc-d5ae226c56f8"
      },
      "source": [
        "\n",
        "\n",
        "divisible10 = divisor(10)\n",
        "divisible10 = lambda a:1 if a%10 == 0 else 0\n",
        "\n",
        "\n",
        "divisible10(9)"
      ],
      "execution_count": 68,
      "outputs": [
        {
          "output_type": "execute_result",
          "data": {
            "text/plain": [
              "0"
            ]
          },
          "metadata": {
            "tags": []
          },
          "execution_count": 68
        }
      ]
    },
    {
      "cell_type": "code",
      "metadata": {
        "id": "GSbdQh4zYVkI",
        "colab_type": "code",
        "colab": {}
      },
      "source": [
        "divisible5(8)"
      ],
      "execution_count": 0,
      "outputs": []
    },
    {
      "cell_type": "markdown",
      "metadata": {
        "id": "jrlaI_gnYVkM",
        "colab_type": "text"
      },
      "source": [
        "# Challenge 2 - Using Lambda Expressions in List Comprehensions\n",
        "\n",
        "In the following challenge, we will combine two lists using a lambda expression in a list comprehension. \n",
        "\n",
        "To do this, we will need to introduce the `zip` function. The `zip` function returns an iterator of tuples.\n",
        "\n",
        "The way zip function works with list has been shown below:"
      ]
    },
    {
      "cell_type": "code",
      "metadata": {
        "id": "v_OHPw56YVkN",
        "colab_type": "code",
        "colab": {},
        "outputId": "ed39ef71-e342-4b4a-9b57-6d7f6abf5bbf"
      },
      "source": [
        "list1 = ['Green', 'cheese', 'English', 'tomato']\n",
        "list2 = ['eggs', 'cheese', 'cucumber', 'tomato']\n",
        "zipped = zip(list1,list2)\n",
        "list(zipped)"
      ],
      "execution_count": 0,
      "outputs": [
        {
          "output_type": "execute_result",
          "data": {
            "text/plain": [
              "[('Green', 'eggs'),\n",
              " ('cheese', 'cheese'),\n",
              " ('English', 'cucumber'),\n",
              " ('tomato', 'tomato')]"
            ]
          },
          "metadata": {
            "tags": []
          },
          "execution_count": 1
        }
      ]
    },
    {
      "cell_type": "markdown",
      "metadata": {
        "id": "p-TrXb6mYVkQ",
        "colab_type": "text"
      },
      "source": [
        "In this exercise we will try to compare the elements on the same index in the two lists. \n",
        "We want to zip the two lists and then use a lambda expression to compare if:\n",
        "list1 element > list2 element "
      ]
    },
    {
      "cell_type": "code",
      "metadata": {
        "id": "ZqBX81YpYVkR",
        "colab_type": "code",
        "colab": {
          "base_uri": "https://localhost:8080/",
          "height": 34
        },
        "outputId": "5b9e668f-161f-4c29-e960-935f08fbaea3"
      },
      "source": [
        "list1 = [1,2,3,4]\n",
        "list2 = [2,3,4,5]\n",
        "zipped = zip(list1,list2)\n",
        "list(zipped)\n",
        "## Zip the lists together \n",
        "## Print the zipped list "
      ],
      "execution_count": 39,
      "outputs": [
        {
          "output_type": "execute_result",
          "data": {
            "text/plain": [
              "[(1, 2), (2, 3), (3, 4), (4, 5)]"
            ]
          },
          "metadata": {
            "tags": []
          },
          "execution_count": 39
        }
      ]
    },
    {
      "cell_type": "markdown",
      "metadata": {
        "id": "DS6Cc9fAYVkS",
        "colab_type": "raw"
      },
      "source": [
        "Complete the parts of the code marked as \"###\""
      ]
    },
    {
      "cell_type": "code",
      "metadata": {
        "id": "v8cGPRqPYVkT",
        "colab_type": "code",
        "colab": {}
      },
      "source": [
        "'''\n",
        "\n",
        "compare = lambda ###: print(\"True\") if ### else print(\"False\")\n",
        "for ### in zip(list1,list2):\n",
        "    compare(###)\n",
        " \n",
        "'''    \n",
        "dif = lambda a, b: True if a > b else False\n",
        "\n",
        "\n",
        "#for a,b in zipped: \n",
        "\n",
        "\n",
        "for i in zipped: \n",
        "  dif(zipped[i][0], zipped[i][1])\n",
        "\n"
      ],
      "execution_count": 0,
      "outputs": []
    },
    {
      "cell_type": "markdown",
      "metadata": {
        "id": "0ea_RQwTYVkU",
        "colab_type": "text"
      },
      "source": [
        "# Challenge 3 - Using Lambda Expressions as Arguments\n",
        "\n",
        "#### In this challenge, we will zip together two lists and sort by the resulting tuple.\n",
        "\n",
        "In the cell below, take the two lists provided, zip them together and sort by the first letter of the second element of each tuple. Do this using a lambda function."
      ]
    },
    {
      "cell_type": "code",
      "metadata": {
        "id": "q4RvtXxWYVkV",
        "colab_type": "code",
        "colab": {
          "base_uri": "https://localhost:8080/",
          "height": 232
        },
        "outputId": "894780b9-79c2-4005-cac5-7833ad625e93"
      },
      "source": [
        "list1 = ['Engineering', 'Computer Science', 'Political Science', 'Mathematics']\n",
        "list2 = ['Lab', 'Homework', 'Essay', 'Module']\n",
        "\n",
        "zipped = zip(list1,list2)\n",
        "l2= list(zipped)\n",
        "\n",
        "sorted(l2, key= lambda x: x[1])\n",
        "\n",
        "\n"
      ],
      "execution_count": 63,
      "outputs": [
        {
          "output_type": "error",
          "ename": "TypeError",
          "evalue": "ignored",
          "traceback": [
            "\u001b[0;31m---------------------------------------------------------------------------\u001b[0m",
            "\u001b[0;31mTypeError\u001b[0m                                 Traceback (most recent call last)",
            "\u001b[0;32m<ipython-input-63-557450439610>\u001b[0m in \u001b[0;36m<module>\u001b[0;34m()\u001b[0m\n\u001b[1;32m      3\u001b[0m \u001b[0;34m\u001b[0m\u001b[0m\n\u001b[1;32m      4\u001b[0m \u001b[0mzipped\u001b[0m \u001b[0;34m=\u001b[0m \u001b[0mzip\u001b[0m\u001b[0;34m(\u001b[0m\u001b[0mlist1\u001b[0m\u001b[0;34m,\u001b[0m\u001b[0mlist2\u001b[0m\u001b[0;34m)\u001b[0m\u001b[0;34m\u001b[0m\u001b[0;34m\u001b[0m\u001b[0m\n\u001b[0;32m----> 5\u001b[0;31m \u001b[0ml2\u001b[0m\u001b[0;34m=\u001b[0m \u001b[0mlist\u001b[0m\u001b[0;34m(\u001b[0m\u001b[0mzipped\u001b[0m\u001b[0;34m)\u001b[0m\u001b[0;34m\u001b[0m\u001b[0;34m\u001b[0m\u001b[0m\n\u001b[0m\u001b[1;32m      6\u001b[0m \u001b[0;34m\u001b[0m\u001b[0m\n\u001b[1;32m      7\u001b[0m \u001b[0msorted\u001b[0m\u001b[0;34m(\u001b[0m\u001b[0ml2\u001b[0m\u001b[0;34m,\u001b[0m \u001b[0mkey\u001b[0m\u001b[0;34m=\u001b[0m \u001b[0;32mlambda\u001b[0m \u001b[0mx\u001b[0m\u001b[0;34m:\u001b[0m \u001b[0mx\u001b[0m\u001b[0;34m[\u001b[0m\u001b[0;36m1\u001b[0m\u001b[0;34m]\u001b[0m\u001b[0;34m)\u001b[0m\u001b[0;34m\u001b[0m\u001b[0;34m\u001b[0m\u001b[0m\n",
            "\u001b[0;31mTypeError\u001b[0m: 'list' object is not callable"
          ]
        }
      ]
    },
    {
      "cell_type": "markdown",
      "metadata": {
        "id": "Tl4HaCzQYVkW",
        "colab_type": "text"
      },
      "source": [
        "# Bonus Challenge - Sort a Dictionary by Values\n",
        "\n",
        "Given the dictionary below, sort it by values rather than by keys. Use a lambda function to specify the values as a sorting key."
      ]
    },
    {
      "cell_type": "code",
      "metadata": {
        "id": "5mpGFH7lYVkW",
        "colab_type": "code",
        "colab": {}
      },
      "source": [
        "d = {'Honda': 1997, 'Toyota': 1995, 'Audi': 2001, 'BMW': 2005}\n",
        "\n",
        "# Your code here:"
      ],
      "execution_count": 0,
      "outputs": []
    },
    {
      "cell_type": "code",
      "metadata": {
        "id": "-gtyduvYYVkY",
        "colab_type": "code",
        "colab": {}
      },
      "source": [
        ""
      ],
      "execution_count": 0,
      "outputs": []
    }
  ]
}